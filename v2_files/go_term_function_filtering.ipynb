{
 "cells": [
  {
   "cell_type": "markdown",
   "id": "ebdc3c86-1ca4-45fe-bb37-d499fec6da9a",
   "metadata": {},
   "source": [
    "## Script to filter the GO Terms based on Vaccine and Treatment candidate keywords.\n",
    "\n",
    "**First, we will get the unique go term set, predicted by each machine learning algorithm and the network analysis.**"
   ]
  },
  {
   "cell_type": "code",
   "execution_count": 14,
   "id": "b6d64218-4adb-4703-a78d-d74272c6bb50",
   "metadata": {},
   "outputs": [],
   "source": [
    "import pandas as pd\n",
    "import re"
   ]
  },
  {
   "cell_type": "code",
   "execution_count": 220,
   "id": "84f30d25-2538-4ff1-a3b0-23cb04e629b0",
   "metadata": {},
   "outputs": [],
   "source": [
    "\"\"\"\n",
    "v2_ada_hypo_pred_withID.csv includes the prediction of 83 hypothetical proteins by the adaboost. The file includes\n",
    "the sequence ID\n",
    "\"\"\"\n",
    "\n",
    "ada_preds = pd.read_csv(\"/Users/zaidur/Documents/Sequence_Project/aeromonasBact/v2_files/v2_ada_hypo_pred_withID.csv\")"
   ]
  },
  {
   "cell_type": "code",
   "execution_count": 221,
   "id": "65dd5abb-f0ec-4330-b2b2-3a3db3d980c1",
   "metadata": {},
   "outputs": [
    {
     "data": {
      "text/plain": [
       "79"
      ]
     },
     "execution_count": 221,
     "metadata": {},
     "output_type": "execute_result"
    }
   ],
   "source": [
    "\"\"\"\n",
    "From all the prediction GO Terms of each of the hypothetical proteins, unique GO Terms were identified.\n",
    "\"\"\"\n",
    "\n",
    "ada_preds_combined = ' '.join(ada_preds['prediction_go_terms'])\n",
    "ada_pred_list = [item.strip() for item in re.split(',| ', ada_preds_combined) if item]\n",
    "ada_pred_unique = set(ada_pred_list)\n",
    "ada_pred_unique = list(ada_pred_unique)\n",
    "len(ada_pred_unique)"
   ]
  },
  {
   "cell_type": "code",
   "execution_count": 222,
   "id": "0ea18e80-19d3-45c6-9916-799145ccd870",
   "metadata": {},
   "outputs": [
    {
     "data": {
      "text/plain": [
       "9"
      ]
     },
     "execution_count": 222,
     "metadata": {},
     "output_type": "execute_result"
    }
   ],
   "source": [
    "\"\"\"\n",
    "Similar was done for Random Forest Predictions\n",
    "\"\"\"\n",
    "\n",
    "rf_preds = pd.read_csv(\"/Users/zaidur/Documents/Sequence_Project/aeromonasBact/v2_files/v2_rf_hypo_pred_withID.csv\")\n",
    "rf_preds_combined = ' '.join(rf_preds['prediction_go_terms'])\n",
    "rf_pred_list = [item.strip() for item in re.split(',| ', rf_preds_combined) if item]\n",
    "rf_pred_unique = set(rf_pred_list)\n",
    "rf_pred_unique = list(rf_pred_unique)\n",
    "len(rf_pred_unique)"
   ]
  },
  {
   "cell_type": "code",
   "execution_count": 223,
   "id": "f6ff399d-d63c-4239-8992-736c24e726ba",
   "metadata": {},
   "outputs": [
    {
     "data": {
      "text/plain": [
       "80"
      ]
     },
     "execution_count": 223,
     "metadata": {},
     "output_type": "execute_result"
    }
   ],
   "source": [
    "\"\"\"\n",
    "Similar was done for XGBoost Predictions\n",
    "\"\"\"\n",
    "\n",
    "xgb_preds = pd.read_csv(\"/Users/zaidur/Documents/Sequence_Project/aeromonasBact/v2_files/v2_xgb_hypo_pred_withID.csv\")\n",
    "xgb_preds_combined = ' '.join(xgb_preds['prediction_go_terms'])\n",
    "xgb_pred_list = [item.strip() for item in re.split(',| ', xgb_preds_combined) if item]\n",
    "xgb_pred_unique = set(xgb_pred_list)\n",
    "xgb_pred_unique = list(xgb_pred_unique)\n",
    "len(xgb_pred_unique)"
   ]
  },
  {
   "cell_type": "code",
   "execution_count": 224,
   "id": "70ab7306-be98-401f-bbcf-d27b2d873004",
   "metadata": {},
   "outputs": [
    {
     "data": {
      "text/html": [
       "<div>\n",
       "<style scoped>\n",
       "    .dataframe tbody tr th:only-of-type {\n",
       "        vertical-align: middle;\n",
       "    }\n",
       "\n",
       "    .dataframe tbody tr th {\n",
       "        vertical-align: top;\n",
       "    }\n",
       "\n",
       "    .dataframe thead th {\n",
       "        text-align: right;\n",
       "    }\n",
       "</style>\n",
       "<table border=\"1\" class=\"dataframe\">\n",
       "  <thead>\n",
       "    <tr style=\"text-align: right;\">\n",
       "      <th></th>\n",
       "      <th>nodes</th>\n",
       "      <th>data_index</th>\n",
       "      <th>id</th>\n",
       "      <th>connected_nodes</th>\n",
       "      <th>connected_main_nodes</th>\n",
       "      <th>connected_main_nodes_id</th>\n",
       "      <th>main_go_terms</th>\n",
       "      <th>unique_go_terms</th>\n",
       "      <th>rf_predictions</th>\n",
       "      <th>ada_predictions</th>\n",
       "      <th>xgb_predictions</th>\n",
       "      <th>rf_common_go_terms</th>\n",
       "      <th>ada_common_go_terms</th>\n",
       "      <th>xgb_common_go_terms</th>\n",
       "    </tr>\n",
       "  </thead>\n",
       "  <tbody>\n",
       "    <tr>\n",
       "      <th>0</th>\n",
       "      <td>387</td>\n",
       "      <td>H3</td>\n",
       "      <td>SeqID72</td>\n",
       "      <td>['364', '400', '404', '405', '410', '422', '42...</td>\n",
       "      <td>['364']</td>\n",
       "      <td>['P31741']</td>\n",
       "      <td>GO:0005524,GO:0005886,GO:0008564,GO:0015627,GO...</td>\n",
       "      <td>GO:0005886,GO:0008564,GO:0046872,GO:0015628,GO...</td>\n",
       "      <td>GO:0000287, GO:0008654, GO:0043772</td>\n",
       "      <td>GO:0000036, GO:0000049, GO:0002161, GO:0004414...</td>\n",
       "      <td>GO:0000049, GO:0000902, GO:0000917, GO:0002161...</td>\n",
       "      <td>NaN</td>\n",
       "      <td>GO:0005524</td>\n",
       "      <td>GO:0005524</td>\n",
       "    </tr>\n",
       "    <tr>\n",
       "      <th>1</th>\n",
       "      <td>388</td>\n",
       "      <td>H4</td>\n",
       "      <td>SeqID227</td>\n",
       "      <td>['199', '248', '383', '393', '405', '409', '41...</td>\n",
       "      <td>['199', '248', '383']</td>\n",
       "      <td>['A0A427LFI7', 'A0A6S4T276', 'A0A854BBJ4']</td>\n",
       "      <td>GO:0000287,GO:0005886,GO:0008289,GO:0030976,GO...</td>\n",
       "      <td>GO:0004564,GO:0005886,GO:0005985,GO:0008982,GO...</td>\n",
       "      <td>GO:0000287, GO:0008654, GO:0043772, GO:0046872</td>\n",
       "      <td>GO:0000036, GO:0002161, GO:0004414, GO:0004527...</td>\n",
       "      <td>GO:0000902, GO:0000917, GO:0002161, GO:0003746...</td>\n",
       "      <td>GO:0000287</td>\n",
       "      <td>GO:0005737</td>\n",
       "      <td>GO:0005737</td>\n",
       "    </tr>\n",
       "    <tr>\n",
       "      <th>2</th>\n",
       "      <td>390</td>\n",
       "      <td>H6</td>\n",
       "      <td>SeqID1002</td>\n",
       "      <td>['364', '396', '400', '404', '423', '430', '44...</td>\n",
       "      <td>['364']</td>\n",
       "      <td>['P31741']</td>\n",
       "      <td>GO:0005524,GO:0005886,GO:0008564,GO:0015627,GO...</td>\n",
       "      <td>GO:0005886,GO:0008564,GO:0046872,GO:0015628,GO...</td>\n",
       "      <td>GO:0008654, GO:0043772, GO:0046872</td>\n",
       "      <td>GO:0000036, GO:0000049, GO:0000287, GO:0002161...</td>\n",
       "      <td>GO:0000049, GO:0000902, GO:0000917, GO:0002161...</td>\n",
       "      <td>GO:0046872</td>\n",
       "      <td>GO:0005524</td>\n",
       "      <td>GO:0005524</td>\n",
       "    </tr>\n",
       "    <tr>\n",
       "      <th>3</th>\n",
       "      <td>392</td>\n",
       "      <td>H8</td>\n",
       "      <td>SeqID288</td>\n",
       "      <td>['4', '7', '9', '17', '19', '20', '21', '24', ...</td>\n",
       "      <td>['4', '7', '9', '17', '19', '20', '21', '24', ...</td>\n",
       "      <td>['A0A081LRY1', 'A0A081UU93', 'A0A081UYK9', 'A0...</td>\n",
       "      <td>GO:0005886,GO:0006814,GO:0010181,GO:0016655,GO...</td>\n",
       "      <td>GO:0009252,GO:0015990,GO:0008360,GO:0006605,GO...</td>\n",
       "      <td>GO:0000287, GO:0008654, GO:0043772</td>\n",
       "      <td>GO:0000036, GO:0002161, GO:0004414, GO:0004527...</td>\n",
       "      <td>GO:0000902, GO:0000917, GO:0002161, GO:0002935...</td>\n",
       "      <td>GO:0000287</td>\n",
       "      <td>NaN</td>\n",
       "      <td>GO:0043093</td>\n",
       "    </tr>\n",
       "    <tr>\n",
       "      <th>4</th>\n",
       "      <td>393</td>\n",
       "      <td>H9</td>\n",
       "      <td>SeqID870</td>\n",
       "      <td>['3', '71', '121', '126', '136', '141', '149',...</td>\n",
       "      <td>['3', '71', '121', '126', '136', '141', '149',...</td>\n",
       "      <td>['A0A081LNX9', 'A0A1N7B7K5', 'A0A2I8D792', 'A0...</td>\n",
       "      <td>GO:0000917,GO:0005886,GO:0006508,GO:0008360,GO...</td>\n",
       "      <td>GO:0009252,GO:0008982,GO:0008360,GO:0009401,GO...</td>\n",
       "      <td>GO:0000287, GO:0008654, GO:0043772</td>\n",
       "      <td>GO:0000036, GO:0000049, GO:0002161, GO:0004414...</td>\n",
       "      <td>GO:0000902, GO:0000917, GO:0002161, GO:0002935...</td>\n",
       "      <td>GO:0000287</td>\n",
       "      <td>GO:0005737</td>\n",
       "      <td>GO:0005737,GO:0000917</td>\n",
       "    </tr>\n",
       "  </tbody>\n",
       "</table>\n",
       "</div>"
      ],
      "text/plain": [
       "   nodes data_index         id  \\\n",
       "0    387         H3    SeqID72   \n",
       "1    388         H4   SeqID227   \n",
       "2    390         H6  SeqID1002   \n",
       "3    392         H8   SeqID288   \n",
       "4    393         H9   SeqID870   \n",
       "\n",
       "                                     connected_nodes  \\\n",
       "0  ['364', '400', '404', '405', '410', '422', '42...   \n",
       "1  ['199', '248', '383', '393', '405', '409', '41...   \n",
       "2  ['364', '396', '400', '404', '423', '430', '44...   \n",
       "3  ['4', '7', '9', '17', '19', '20', '21', '24', ...   \n",
       "4  ['3', '71', '121', '126', '136', '141', '149',...   \n",
       "\n",
       "                                connected_main_nodes  \\\n",
       "0                                            ['364']   \n",
       "1                              ['199', '248', '383']   \n",
       "2                                            ['364']   \n",
       "3  ['4', '7', '9', '17', '19', '20', '21', '24', ...   \n",
       "4  ['3', '71', '121', '126', '136', '141', '149',...   \n",
       "\n",
       "                             connected_main_nodes_id  \\\n",
       "0                                         ['P31741']   \n",
       "1         ['A0A427LFI7', 'A0A6S4T276', 'A0A854BBJ4']   \n",
       "2                                         ['P31741']   \n",
       "3  ['A0A081LRY1', 'A0A081UU93', 'A0A081UYK9', 'A0...   \n",
       "4  ['A0A081LNX9', 'A0A1N7B7K5', 'A0A2I8D792', 'A0...   \n",
       "\n",
       "                                       main_go_terms  \\\n",
       "0  GO:0005524,GO:0005886,GO:0008564,GO:0015627,GO...   \n",
       "1  GO:0000287,GO:0005886,GO:0008289,GO:0030976,GO...   \n",
       "2  GO:0005524,GO:0005886,GO:0008564,GO:0015627,GO...   \n",
       "3  GO:0005886,GO:0006814,GO:0010181,GO:0016655,GO...   \n",
       "4  GO:0000917,GO:0005886,GO:0006508,GO:0008360,GO...   \n",
       "\n",
       "                                     unique_go_terms  \\\n",
       "0  GO:0005886,GO:0008564,GO:0046872,GO:0015628,GO...   \n",
       "1  GO:0004564,GO:0005886,GO:0005985,GO:0008982,GO...   \n",
       "2  GO:0005886,GO:0008564,GO:0046872,GO:0015628,GO...   \n",
       "3  GO:0009252,GO:0015990,GO:0008360,GO:0006605,GO...   \n",
       "4  GO:0009252,GO:0008982,GO:0008360,GO:0009401,GO...   \n",
       "\n",
       "                                   rf_predictions  \\\n",
       "0              GO:0000287, GO:0008654, GO:0043772   \n",
       "1  GO:0000287, GO:0008654, GO:0043772, GO:0046872   \n",
       "2              GO:0008654, GO:0043772, GO:0046872   \n",
       "3              GO:0000287, GO:0008654, GO:0043772   \n",
       "4              GO:0000287, GO:0008654, GO:0043772   \n",
       "\n",
       "                                     ada_predictions  \\\n",
       "0  GO:0000036, GO:0000049, GO:0002161, GO:0004414...   \n",
       "1  GO:0000036, GO:0002161, GO:0004414, GO:0004527...   \n",
       "2  GO:0000036, GO:0000049, GO:0000287, GO:0002161...   \n",
       "3  GO:0000036, GO:0002161, GO:0004414, GO:0004527...   \n",
       "4  GO:0000036, GO:0000049, GO:0002161, GO:0004414...   \n",
       "\n",
       "                                     xgb_predictions rf_common_go_terms  \\\n",
       "0  GO:0000049, GO:0000902, GO:0000917, GO:0002161...                NaN   \n",
       "1  GO:0000902, GO:0000917, GO:0002161, GO:0003746...         GO:0000287   \n",
       "2  GO:0000049, GO:0000902, GO:0000917, GO:0002161...         GO:0046872   \n",
       "3  GO:0000902, GO:0000917, GO:0002161, GO:0002935...         GO:0000287   \n",
       "4  GO:0000902, GO:0000917, GO:0002161, GO:0002935...         GO:0000287   \n",
       "\n",
       "  ada_common_go_terms    xgb_common_go_terms  \n",
       "0          GO:0005524             GO:0005524  \n",
       "1          GO:0005737             GO:0005737  \n",
       "2          GO:0005524             GO:0005524  \n",
       "3                 NaN             GO:0043093  \n",
       "4          GO:0005737  GO:0005737,GO:0000917  "
      ]
     },
     "execution_count": 224,
     "metadata": {},
     "output_type": "execute_result"
    }
   ],
   "source": [
    "\"\"\"\n",
    "hypo_network_predictions.csv file contains the predictions by the similarity network.\n",
    "connected_nodes- contains the nodes (proteins, both regular and hypothetical ones) that are connected to the hypothetical ones.\n",
    "connected_main_nodes - contains only the main nodes (regular proteins from main dataset)\n",
    "connected_main_nodes_id - the id of the nodes (proteins) in connected_main_nodes column\n",
    "main_go_terms - Associated GO Terms of the connected regular proteins in connected_main_nodes_id column\n",
    "unique_go_terms - The duplicate GO terms were removed and only kept the unique ones from the main_go_terms column. The final list\n",
    "is considered as the predicted go terms by the similarity network.\n",
    "\n",
    "Rest of the column contains the prediction from different machine learning algorithms for comparisons.\n",
    "\n",
    "\"\"\"\n",
    "\n",
    "hypo_network_df = pd.read_csv(\"/Users/zaidur/Downloads/hypo_network_predictions.csv\")\n",
    "hypo_network_df.head()"
   ]
  },
  {
   "cell_type": "code",
   "execution_count": 225,
   "id": "50d416e3-3935-45be-9f73-3509c4223797",
   "metadata": {},
   "outputs": [
    {
     "data": {
      "text/plain": [
       "99"
      ]
     },
     "execution_count": 225,
     "metadata": {},
     "output_type": "execute_result"
    }
   ],
   "source": [
    "\"\"\"\n",
    "Unique GO Terms were identified for the network in a similar way\n",
    "\"\"\"\n",
    "\n",
    "# Initialize an empty list to store all GO terms\n",
    "network_go_terms = []\n",
    "\n",
    "# Loop through each row, check for NaN, split by commas, strip any whitespace, and add terms to the list\n",
    "hypo_network_df['unique_go_terms'].apply(lambda x: network_go_terms.extend([term.strip() for term in x.split(',')]) if pd.notna(x) else None)\n",
    "\n",
    "# Remove duplicates by converting to a set and back to a list, if uniqueness is required\n",
    "network_go_terms_unique = list(set(network_go_terms))  # Skip this line if duplicates are allowed\n",
    "len(network_go_terms_unique)"
   ]
  },
  {
   "cell_type": "code",
   "execution_count": 227,
   "id": "bf9a676a-bbb5-4bca-9c55-bd3a2ef22cd6",
   "metadata": {},
   "outputs": [
    {
     "data": {
      "text/plain": [
       "224"
      ]
     },
     "execution_count": 227,
     "metadata": {},
     "output_type": "execute_result"
    }
   ],
   "source": [
    "\"\"\"\n",
    "Combined list of unique go terms from all four predictions. This list was not used in anywhere.\n",
    "\"\"\"\n",
    "\n",
    "combined_list = ada_pred_unique + xgb_pred_unique + rf_pred_unique + network_go_terms_unique\n",
    "combined_list_unique = set(combined_list)\n",
    "combined_list_unique = list(combined_list_unique)\n",
    "len(combined_list_unique)"
   ]
  },
  {
   "cell_type": "code",
   "execution_count": null,
   "id": "f6c313a1-7111-45d5-a496-5e029ff1855d",
   "metadata": {},
   "outputs": [],
   "source": []
  },
  {
   "cell_type": "code",
   "execution_count": null,
   "id": "9273dcc1-b2a3-4ac3-87f3-55220fdf6494",
   "metadata": {},
   "outputs": [],
   "source": []
  },
  {
   "cell_type": "markdown",
   "id": "1cc2d83d-99d0-4a02-977b-68b73713d534",
   "metadata": {},
   "source": [
    "### From here, the filtration starts. The GO Terms form each prediction were filtered based on specific keywords"
   ]
  },
  {
   "cell_type": "code",
   "execution_count": 229,
   "id": "ae79a0f6-ba73-44c6-b2f2-6c6fdfc44d4d",
   "metadata": {},
   "outputs": [
    {
     "name": "stdout",
     "output_type": "stream",
     "text": [
      "GO terms relevant for treatments (antibiotics):\n",
      "GO:1902600: proton transmembrane transport\n",
      "GO:0015420: abc-type vitamin b12 transporter activity\n",
      "GO:0008899: homoserine o-succinyltransferase activity\n",
      "GO:0046872: metal ion binding\n",
      "GO:0016743: carboxyl- or carbamoyltransferase activity\n",
      "GO:0008425: 2-polyprenyl-6-methoxy-1,4-benzoquinone methyltransferase activity\n",
      "GO:0034017: trans-2-decenoyl-acyl-carrier-protein isomerase activity\n",
      "GO:1901576: organic substance biosynthetic process\n",
      "GO:0034200: d,d-heptose 1,7-bisphosphate phosphatase activity\n",
      "GO:0004825: methionine-trna ligase activity\n",
      "GO:0019299: rhamnose metabolic process\n",
      "GO:0004414: homoserine o-acetyltransferase activity\n",
      "GO:0016901: oxidoreductase activity, acting on the ch-oh group of donors, quinone or similar compound as acceptor\n",
      "GO:0009116: nucleoside metabolic process\n",
      "GO:0045893: positive regulation of dna-templated transcription\n",
      "GO:0044249: cellular biosynthetic process\n",
      "GO:0000166: nucleotide binding\n",
      "GO:0042158: lipoprotein biosynthetic process\n",
      "GO:0042203: toluene catabolic process\n",
      "GO:0004815: aspartate-trna ligase activity\n",
      "GO:0004822: isoleucine-trna ligase activity\n",
      "GO:0009245: lipid a biosynthetic process\n",
      "GO:0043122: regulation of i-kappab kinase/nf-kappab signaling\n",
      "GO:1901505: carbohydrate derivative transmembrane transporter activity\n",
      "GO:0103118: udp-3-o-(r-3-hydroxymyristoyl)-glucosamine n-acyltransferase activity\n",
      "GO:0015035: protein-disulfide reductase activity\n",
      "GO:0019281: l-methionine biosynthetic process from homoserine via o-succinyl-l-homoserine and cystathionine\n",
      "GO:0010795: regulation of ubiquinone biosynthetic process\n",
      "GO:0019569: l-arabinose catabolic process to xylulose 5-phosphate\n",
      "GO:0032088: negative regulation of nf-kappab transcription factor activity\n",
      "GO:0000287: magnesium ion binding\n",
      "GO:0008270: zinc ion binding\n",
      "GO:0009252: peptidoglycan biosynthetic process\n",
      "\n",
      "GO terms relevant for vaccine development:\n",
      "GO:0031349: positive regulation of defense response\n",
      "GO:0050688: regulation of defense response to virus\n"
     ]
    }
   ],
   "source": [
    "import re\n",
    "\n",
    "# Expanded keyword lists for treatments and vaccines\n",
    "treatment_keywords = [\n",
    "    \"biosynthetic process\", \"metabolic process\", \"catabolic process\", \"synthesis\", \"synthetase\",\n",
    "    \"ligase\", \"transferase\", \"reductase\", \"hydrolase\", \"lyase\", \"ATPase\", \"protease\", \"kinase\",\n",
    "    \"isomerase\", \"peptidase\", \"phosphatase\", \"decarboxylase\", \"peptidoglycan\", \"cell wall\",\n",
    "    \"lipopolysaccharide\", \"lipid A\", \"translation\", \"replication\", \"transcription\",\n",
    "    \"protein synthesis\", \"RNA polymerase\", \"tRNA binding\", \"DNA recombination\", \"cell division\",\n",
    "    \"electron transport\", \"transport\", \"porin\", \"transporter\", \"permease\", \"pump\", \"metal ion binding\",\n",
    "    \"cation binding\", \"anion binding\", \"iron-sulfur cluster\", \"GTP binding\", \"NAD binding\",\n",
    "    \"cofactor binding\", \"glycolysis\", \"TCA cycle\", \"respiration\", \"oxidative phosphorylation\",\n",
    "    \"proton gradient\", \"SOS response\", \"oxidative stress\", \"DNA repair\", \"nucleotide binding\",\n",
    "    \"magnesium ion binding\", \"cytochrome-c oxidase activity\", \"telomerase activity\", \"RNA binding\",\n",
    "    \"RNA helicase activity\", \"1,4-alpha-glucan branching enzyme\", \"UDP-N-acetylglucosamine diphosphorylase\",\n",
    "    \"ATP-dependent peptidase\", \"metalloendopeptidase\", \"glucose-6-phosphate isomerase\", \"glycine hydroxymethyltransferase\",\n",
    "    \"aspartate-tRNA ligase\", \"glutamate-tRNA ligase\", \"isoleucine-tRNA ligase\", \"methionine-tRNA ligase\",\n",
    "    \"transmembrane signaling receptor\", \"aminoacyl-tRNA editing\", \"tRNA processing\", \"telomerase RNA reverse transcriptase\",\n",
    "    \"cytokine receptor\", \"telomerase catalytic core\", \"oxidoreductase\", \"phosphotransferase\", \"ATP binding\", \n",
    "    \"zinc ion binding\", \"lipid binding\", \"protein-exporting ATPase\", \"kinase\", \"carbohydrate catabolic process\",\n",
    "    \"phosphorylation\", \"lipopolysaccharide biosynthetic\", \"peptidoglycan glycosyltransferase\", \"peptidoglycan biosynthetic process\",\n",
    "    \"protein-transporting ATPase\", \"electron transport coupled proton transport\"\n",
    "] #Treatment keywords need to refined and reduced further. For the initial analysis, the result from the treatment filteration were not used\n",
    "\n",
    "# vaccine_keywords = [\n",
    "#     \"outer membrane\", \"periplasmic\", \"capsule\", \"pili\", \"fimbriae\", \"flagellum\", \"lipoprotein\",\n",
    "#     \"glycocalyx\", \"exopolysaccharide\", \"LPS\", \"adhesion\", \"surface antigen\", \"toxin\", \"virulence\",\n",
    "#     \"pathogenicity\", \"invasion\", \"secretion system\", \"biofilm\", \"immune evasion\", \"lipid A\",\n",
    "#     \"polysaccharide\", \"capsular\", \"glycosylation\", \"lipidation\", \"ribosome\", \"ribosomal protein\",\n",
    "#     \"translation\", \"elongation factor\", \"ribosome binding\", \"antigen\", \"epitope\", \"MAMP\", \"PAMP\",\n",
    "#     \"immune response\", \"innate immunity\", \"complement activation\", \"cell wall\", \"lipoteichoic acid\",\n",
    "#     \"mycolic acid\", \"teichoic acid\", \"secretion\", \"transport\", \"export\", \"membrane-bound\", \"ABC transporter\",\n",
    "#     \"type III secretion system\", \"type IV secretion system\", \"toll-like receptor\", \"cytokine receptor\",\n",
    "#     \"tumor necrosis factor receptor\", \"extracellular region\", \"extracellular space\", \"response to lipopolysaccharide\",\n",
    "#     \"activation of immune response\", \"positive regulation of defense response\", \"response to bacterium\",\n",
    "#     \"defense response to virus\", \"innate immune response\", \"positive regulation of response to external stimulus\",\n",
    "#     \"extracellular matrix\", \"pattern recognition receptor\", \"Toll signaling pathway\", \"lipoprotein biosynthetic\",\n",
    "#     \"Gram-negative-bacterium-type cell outer membrane assembly\", \"tumor necrosis factor-mediated signaling\",\n",
    "#     \"regulation of defense response\", \"cytokine-mediated signaling pathway\",\n",
    "#     # New vaccine keywords\n",
    "#     \"tumor necrosis factor receptor binding\", \"negative regulation of NF-kappaB transcription factor activity\",\n",
    "#     \"positive regulation of DNA-templated transcription\", \"positive regulation of JNK cascade\",\n",
    "#     \"phospholipid biosynthetic process\", \"peptidoglycan biosynthetic process\", \"peptidoglycan catabolic process\",\n",
    "#     \"lipid A biosynthetic process\", \"4 iron, 4 sulfur cluster binding\"\n",
    "# ]\n",
    "\n",
    "# vaccine_keywords = [\n",
    "#     \"outer membrane\", \"capsule\", \"pili\", \"fimbriae\", \"flagellum\", \"lipoprotein\",\n",
    "#     \"LPS\", \"adhesion\", \"surface antigen\", \"toxin\", \"virulence\",\n",
    "#     \"pathogenicity\", \"invasion\", \"secretion system\", \"biofilm\", \"immune evasion\", \n",
    "#     \"lipid A\", \"polysaccharide\", \"capsular\", \"glycosylation\", \"antigen\", \n",
    "#     \"epitope\", \"MAMP\", \"PAMP\", \"immune response\", \"innate immunity\", \n",
    "#     \"complement activation\", \"cell wall\", \"lipoteichoic acid\", \"mycolic acid\", \n",
    "#     \"teichoic acid\", \"transport\", \"export\", \"membrane-bound\", \"ABC transporter\",\n",
    "#     \"type III secretion system\", \"type IV secretion system\", \"toll-like receptor\", \n",
    "#     \"response to lipopolysaccharide\", \"activation of immune response\", \n",
    "#     \"positive regulation of defense response\", \"response to bacterium\",\n",
    "#     \"defense response to virus\", \"innate immune response\", \"extracellular matrix\", \n",
    "#     \"pattern recognition receptor\", \"Toll signaling pathway\", \n",
    "#     \"peptidoglycan biosynthetic process\", \"peptidoglycan catabolic process\", \n",
    "#     \"tumor necrosis factor-mediated signaling\"\n",
    "# ]\n",
    "\n",
    "vaccine_keywords = [\n",
    "    \"outer membrane\", \"adhesion\", \"surface antigen\", \"toxin\", \"virulence\",\n",
    "    \"pathogenicity\", \"invasion\", \"secretion system\", \"immune evasion\", \"antigen\", \n",
    "    \"epitope\", \"immune response\", \"innate immunity\", \"membrane-bound\",\n",
    "    \"type III secretion system\", \"type IV secretion system\", \"activation of immune response\", \n",
    "    \"positive regulation of defense response\", \"response to bacterium\",\n",
    "    \"defense response to virus\", \"innate immune response\"\n",
    "]\n",
    "\n",
    "# Load the GO descriptions from go-basic.obo file\n",
    "def load_go_descriptions(obo_file_path):\n",
    "    go_descriptions = {}\n",
    "    try:\n",
    "        with open(obo_file_path, 'r') as file:\n",
    "            current_id = None\n",
    "            for line in file:\n",
    "                if line.startswith(\"id: GO:\"):\n",
    "                    current_id = line.strip().split()[1]\n",
    "                elif line.startswith(\"name:\") and current_id:\n",
    "                    go_descriptions[current_id] = line.strip().split(\"name: \")[1].lower()\n",
    "                elif line.strip() == \"[Term]\":\n",
    "                    current_id = None\n",
    "    except FileNotFoundError:\n",
    "        print(f\"File not found: {obo_file_path}\")\n",
    "    return go_descriptions\n",
    "\n",
    "# Classify each GO term based on the description\n",
    "def classify_go_terms(go_terms, go_descriptions):\n",
    "    \n",
    "    #the first input is the list of unique go terms predicted by individual algorithm. It needs to changed for each algorithm output\n",
    "    #The second input is fixed.\n",
    "    \n",
    "    treatment_terms = []\n",
    "    vaccine_terms = []\n",
    "\n",
    "    for go_id in go_terms:\n",
    "        description = go_descriptions.get(go_id, \"\").lower()\n",
    "        \n",
    "        # Check for treatment-related keywords\n",
    "        if any(keyword in description for keyword in treatment_keywords):\n",
    "            treatment_terms.append((go_id, description))\n",
    "        # Check for vaccine-related keywords\n",
    "        if any(keyword in description for keyword in vaccine_keywords):\n",
    "            vaccine_terms.append((go_id, description))\n",
    "\n",
    "    return treatment_terms, vaccine_terms\n",
    "\n",
    "\"\"\"\n",
    "OBO File path need to updated for reuse. The file contains the description of all GO Terms\n",
    "\"\"\"\n",
    "obo_file_path = \"/Users/zaidur/Documents/Sequence_Project/aeromonasBact/test_data_prep/go-basic.obo\"\n",
    "\n",
    "\n",
    "# Load GO descriptions from the OBO file\n",
    "go_descriptions = load_go_descriptions(obo_file_path)\n",
    "\n",
    "# Classify GO terms based on descriptions\n",
    "treatment_terms, vaccine_terms = classify_go_terms(ada_pred_unique, go_descriptions)\n",
    "#treatment_terms, vaccine_terms = classify_go_terms(network_go_terms_unique, go_descriptions)\n",
    "\n",
    "\"\"\"\n",
    "change the first argument of the function classify_go_terms.\n",
    "ada_pred_unique - to filter the go terms from AdaBoost prediction\n",
    "rf_pred_unique - to filter the go terms from Random Forest prediction\n",
    "xgb_pred_unique - to filter the go terms from XGBoost prediction\n",
    "network_go_terms_unique - to filter the go terms from Similarity Network\n",
    "\"\"\"\n",
    "\n",
    "\n",
    "# Display results for treatment candidates\n",
    "print(\"GO terms relevant for treatments (antibiotics):\")\n",
    "for go_id, description in treatment_terms:\n",
    "    print(f\"{go_id}: {description}\")\n",
    "\n",
    "print(\"\\nGO terms relevant for vaccine development:\")\n",
    "for go_id, description in vaccine_terms:\n",
    "    print(f\"{go_id}: {description}\")\n",
    "\n"
   ]
  },
  {
   "cell_type": "code",
   "execution_count": null,
   "id": "1995db3c-4668-49ee-abad-94b4a32d38de",
   "metadata": {},
   "outputs": [],
   "source": []
  },
  {
   "cell_type": "code",
   "execution_count": null,
   "id": "a724f3ab-4806-48d3-9b34-cbb1cbe79c66",
   "metadata": {},
   "outputs": [],
   "source": []
  },
  {
   "cell_type": "markdown",
   "id": "e01e01bf-99a1-4539-ab45-aca1ed740a05",
   "metadata": {},
   "source": [
    "#### Once we have the GO terms related to Vaccine (and treatment), we trace them back to the associated protein sequences"
   ]
  },
  {
   "cell_type": "code",
   "execution_count": 230,
   "id": "9ee7c261-70b7-4e4a-bdc8-bf78b3e7abf5",
   "metadata": {},
   "outputs": [
    {
     "name": "stdout",
     "output_type": "stream",
     "text": [
      "Vaccine Matching IDs: ['SeqID835', 'SeqID581', 'SeqID626', 'SeqID306', 'SeqID420', 'SeqID540', 'SeqID446', 'SeqID72', 'SeqID656', 'SeqID747', 'SeqID437', 'SeqID1082', 'SeqID706', 'SeqID193', 'SeqID1079', 'SeqID985', 'SeqID403', 'SeqID476', 'SeqID871', 'SeqID882', 'SeqID196', 'SeqID211', 'SeqID195', 'SeqID387'] 24\n",
      "\n",
      "Treatment Matching IDs: ['SeqID835', 'SeqID940', 'SeqID581', 'SeqID144', 'SeqID30', 'SeqID1002', 'SeqID213', 'SeqID706', 'SeqID701', 'SeqID785', 'SeqID60', 'SeqID964', 'SeqID871', 'SeqID357', 'SeqID991', 'SeqID870', 'SeqID661', 'SeqID998', 'SeqID59', 'SeqID533', 'SeqID283', 'SeqID194', 'SeqID132', 'SeqID1078', 'SeqID527', 'SeqID1069', 'SeqID250', 'SeqID313', 'SeqID747', 'SeqID1082', 'SeqID908', 'SeqID193', 'SeqID65', 'SeqID875', 'SeqID768', 'SeqID897', 'SeqID711', 'SeqID592', 'SeqID501', 'SeqID626', 'SeqID519', 'SeqID804', 'SeqID42', 'SeqID447', 'SeqID227', 'SeqID120', 'SeqID219', 'SeqID288', 'SeqID600', 'SeqID698', 'SeqID985', 'SeqID305', 'SeqID162', 'SeqID403', 'SeqID276', 'SeqID199', 'SeqID882', 'SeqID715', 'SeqID211', 'SeqID180', 'SeqID212', 'SeqID385', 'SeqID306', 'SeqID420', 'SeqID540', 'SeqID446', 'SeqID72', 'SeqID78', 'SeqID656', 'SeqID437', 'SeqID1049', 'SeqID794', 'SeqID1079', 'SeqID658', 'SeqID559', 'SeqID168', 'SeqID476', 'SeqID449', 'SeqID196', 'SeqID383', 'SeqID607', 'SeqID195', 'SeqID387'] 83\n"
     ]
    }
   ],
   "source": [
    "\"\"\"\n",
    "This code takes input - main dataframe containing the predictions and the tuple contaning the go terms\n",
    "related to vaccine (and treatments). And trace back the protein sequences that included those GO Terms in their prediction.\n",
    "The function inputs need to be updated for each different dataframe\n",
    "\"\"\"\n",
    "\n",
    "def get_matching_ids_from_tuples(df, go_terms_tuples):\n",
    "    id_list = []\n",
    "    \n",
    "    for tup in go_terms_tuples:\n",
    "        go_term = tup[0]\n",
    "        # Filter rows where the given go_term is found in prediction_go_terms column after splitting and stripping\n",
    "        matching_ids = df[df['prediction_go_terms'].apply(lambda x: go_term in [term.strip() for term in x.split(',')])]['id']\n",
    "        \n",
    "        # Convert matching_ids to a list and extend id_list with these IDs\n",
    "        id_list += matching_ids.tolist()\n",
    "    \n",
    "    # Remove duplicates by converting the list to a set, then back to a list\n",
    "    id_list = list(set(id_list))\n",
    "    return id_list\n",
    "    \n",
    "\n",
    "# Example usage of the function\n",
    "vaccine_matching_ids = get_matching_ids_from_tuples(ada_preds, vaccine_terms)  #Change the first input\n",
    "treatment_matching_ids = get_matching_ids_from_tuples(ada_preds, treatment_terms) #Change the first input, 2nd input will come from previous cell\n",
    "print(\"Vaccine Matching IDs:\", vaccine_matching_ids, len(vaccine_matching_ids))\n",
    "print(\"\\nTreatment Matching IDs:\", treatment_matching_ids, len(treatment_matching_ids))"
   ]
  },
  {
   "cell_type": "code",
   "execution_count": 207,
   "id": "a7e1ce2a-eccf-48d0-a153-93f58f35ca14",
   "metadata": {},
   "outputs": [
    {
     "name": "stdout",
     "output_type": "stream",
     "text": [
      "Vaccine Matching IDs: ['SeqID533', 'SeqID212', 'SeqID940', 'SeqID385', 'SeqID420', 'SeqID540', 'SeqID804', 'SeqID72', 'SeqID195', 'SeqID144', 'SeqID1069', 'SeqID1002', 'SeqID656', 'SeqID600', 'SeqID747', 'SeqID1082', 'SeqID706', 'SeqID698', 'SeqID658', 'SeqID794', 'SeqID65', 'SeqID162', 'SeqID476', 'SeqID60', 'SeqID768', 'SeqID276', 'SeqID449', 'SeqID196', 'SeqID711', 'SeqID715', 'SeqID59', 'SeqID387', 'SeqID592'] 33\n",
      "\n",
      "Treatment Matching IDs: ['SeqID533', 'SeqID194', 'SeqID212', 'SeqID940', 'SeqID501', 'SeqID385', 'SeqID132', 'SeqID1078', 'SeqID420', 'SeqID540', 'SeqID804', 'SeqID227', 'SeqID72', 'SeqID1069', 'SeqID144', 'SeqID250', 'SeqID288', 'SeqID1002', 'SeqID656', 'SeqID600', 'SeqID747', 'SeqID1082', 'SeqID706', 'SeqID698', 'SeqID658', 'SeqID794', 'SeqID985', 'SeqID65', 'SeqID162', 'SeqID476', 'SeqID60', 'SeqID768', 'SeqID276', 'SeqID871', 'SeqID449', 'SeqID882', 'SeqID196', 'SeqID715', 'SeqID211', 'SeqID870', 'SeqID607', 'SeqID711', 'SeqID195', 'SeqID59', 'SeqID387', 'SeqID180', 'SeqID592'] 47\n"
     ]
    }
   ],
   "source": [
    "\"\"\"\n",
    "This code does the same thing, but for the network prediction dataframe only.\n",
    "\"\"\"\n",
    "\n",
    "\n",
    "def get_matching_ids_from_tuples(df, go_terms_tuples):\n",
    "    id_list = []\n",
    "    \n",
    "    for tup in go_terms_tuples:\n",
    "        go_term = tup[0]\n",
    "        \n",
    "        # Filter rows where the given go_term is found in unique_go_terms column after splitting and stripping\n",
    "        matching_ids = df[df['unique_go_terms'].apply(lambda x: pd.notna(x) and go_term in [term.strip() for term in x.split(',')])]['id']\n",
    "        \n",
    "        # Convert matching_ids to a list and extend id_list with these IDs\n",
    "        id_list += matching_ids.tolist()\n",
    "    \n",
    "    # Remove duplicates by converting the list to a set, then back to a list\n",
    "    id_list = list(set(id_list))\n",
    "    return id_list\n",
    "\n",
    "# Example usage of the function\n",
    "vaccine_matching_ids = get_matching_ids_from_tuples(hypo_network_df, vaccine_terms)\n",
    "treatment_matching_ids = get_matching_ids_from_tuples(hypo_network_df, treatment_terms)\n",
    "print(\"Vaccine Matching IDs:\", vaccine_matching_ids, len(vaccine_matching_ids))\n",
    "print(\"\\nTreatment Matching IDs:\", treatment_matching_ids, len(treatment_matching_ids))"
   ]
  },
  {
   "cell_type": "code",
   "execution_count": null,
   "id": "dbeb49fd-15f1-416b-9d44-a2511c0441b8",
   "metadata": {},
   "outputs": [],
   "source": []
  },
  {
   "cell_type": "markdown",
   "id": "6ca3b268-868f-466d-af8e-e26b8f8eb55e",
   "metadata": {},
   "source": [
    "**After each run (previous two cells), the candidate protein sequence ids are stored in different lists**"
   ]
  },
  {
   "cell_type": "code",
   "execution_count": 177,
   "id": "e9a03638-9170-44d8-9ce4-39253d98bb2f",
   "metadata": {},
   "outputs": [],
   "source": [
    "network_vaccine_ids = vaccine_matching_ids.copy()\n",
    "network_treatment_ids = treatment_matching_ids.copy()"
   ]
  },
  {
   "cell_type": "code",
   "execution_count": 185,
   "id": "2e97f435-c31a-483d-a1bb-42e1a767aecf",
   "metadata": {},
   "outputs": [],
   "source": [
    "ada_vaccine_ids = vaccine_matching_ids.copy()\n",
    "ada_treatment_ids = treatment_matching_ids.copy()"
   ]
  },
  {
   "cell_type": "code",
   "execution_count": 180,
   "id": "7982d058-f03e-4ccd-a6d9-a1c50c288246",
   "metadata": {},
   "outputs": [],
   "source": [
    "rf_vaccine_ids = vaccine_matching_ids.copy()\n",
    "rf_treatment_ids = treatment_matching_ids.copy()"
   ]
  },
  {
   "cell_type": "code",
   "execution_count": 188,
   "id": "47b9853c-7a9f-4ba1-a8f5-8fefb7d62a99",
   "metadata": {},
   "outputs": [],
   "source": [
    "xgb_vaccine_ids = vaccine_matching_ids.copy()\n",
    "xgb_treatment_ids = treatment_matching_ids.copy()"
   ]
  },
  {
   "cell_type": "code",
   "execution_count": 212,
   "id": "398babe7-c9c8-45d0-8804-3c451fe59639",
   "metadata": {},
   "outputs": [
    {
     "data": {
      "text/plain": [
       "{'SeqID706'}"
      ]
     },
     "execution_count": 212,
     "metadata": {},
     "output_type": "execute_result"
    }
   ],
   "source": [
    "\"\"\"\n",
    "Since Random Forest did not have any vaccine candidates, we are only interested with the common vaccine candidates from the other\n",
    "three predictions.\n",
    "\"\"\"\n",
    "\n",
    "set(ada_vaccine_ids).intersection(network_vaccine_ids, xgb_vaccine_ids)"
   ]
  },
  {
   "cell_type": "code",
   "execution_count": 197,
   "id": "c709839e-5c48-4543-ac7b-d5efe2df8b7c",
   "metadata": {},
   "outputs": [
    {
     "name": "stdout",
     "output_type": "stream",
     "text": [
      "GO:0003720,GO:0043249,GO:0009252,GO:0009055,GO:0008982,GO:0008360,GO:0034134,GO:0003721,GO:0009401,GO:0008289,GO:0002224,GO:0006955,GO:0042162,GO:0016020,GO:0000917,GO:0060729,GO:0005737,GO:0030574,GO:0071555,GO:0006508,GO:0005985,GO:0038187,GO:0016301,GO:0070469,GO:0000287,GO:0019731,GO:0032755,GO:0005506,GO:0000333,GO:0016310,GO:0051607,GO:0009002,GO:0006119,GO:0043093,GO:0002253,GO:0004564,GO:0005634,GO:0000781,GO:0005886,GO:0042497,GO:0005783,GO:0008955,GO:0046872,GO:0048039,GO:0030976,GO:0042867,GO:0007249,GO:0006954,GO:0004888,GO:0045087,GO:0008270,GO:0050660,GO:0030097,GO:0005576,GO:0007283,GO:0050896,GO:1902600,GO:0007004,GO:0070034,GO:0008658,GO:0020037,GO:0052737,GO:0004222,GO:0031012,GO:0038023\n"
     ]
    }
   ],
   "source": [
    "#Associated GO terms from the network prediction of the common vaccine candidated\n",
    "\n",
    "for i in hypo_network_df[hypo_network_df['id']=='SeqID706']['unique_go_terms']:\n",
    "    print(i)"
   ]
  },
  {
   "cell_type": "code",
   "execution_count": null,
   "id": "b0143361-1706-46ff-a296-aaaabd1bd69e",
   "metadata": {},
   "outputs": [],
   "source": []
  },
  {
   "cell_type": "code",
   "execution_count": null,
   "id": "50308ef3-f0e7-490c-94bc-34fd5fa46ace",
   "metadata": {},
   "outputs": [],
   "source": []
  },
  {
   "cell_type": "code",
   "execution_count": null,
   "id": "727efde0-51bb-40c0-b66f-cd709074b422",
   "metadata": {},
   "outputs": [],
   "source": []
  }
 ],
 "metadata": {
  "kernelspec": {
   "display_name": "Python 3 (ipykernel)",
   "language": "python",
   "name": "python3"
  },
  "language_info": {
   "codemirror_mode": {
    "name": "ipython",
    "version": 3
   },
   "file_extension": ".py",
   "mimetype": "text/x-python",
   "name": "python",
   "nbconvert_exporter": "python",
   "pygments_lexer": "ipython3",
   "version": "3.11.9"
  }
 },
 "nbformat": 4,
 "nbformat_minor": 5
}
