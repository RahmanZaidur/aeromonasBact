{
 "cells": [
  {
   "cell_type": "markdown",
   "id": "e1f443e2",
   "metadata": {},
   "source": [
    "### Get all the obsolete GO terms (latest 4506) and remove the obsolete terms from go_child_df/uniprot_go_childs.csv"
   ]
  },
  {
   "cell_type": "code",
   "execution_count": 4,
   "id": "d7f4ebcc",
   "metadata": {},
   "outputs": [],
   "source": [
    "import ast\n",
    "import pandas as pd"
   ]
  },
  {
   "cell_type": "code",
   "execution_count": 8,
   "id": "11b7fb6f",
   "metadata": {},
   "outputs": [],
   "source": [
    "\"\"\"\n",
    "Get a list of all the obsolete GO terms\n",
    "\"\"\"\n",
    "\n",
    "def parse_obo_file(file):\n",
    "    with open(file, 'r') as f:\n",
    "        content = f.read().split('[Term]')\n",
    "\n",
    "    obsolete_terms = []\n",
    "    for entry in content:\n",
    "        lines = entry.split('\\n')\n",
    "        is_obsolete = False\n",
    "        go_id = ''\n",
    "        for line in lines:\n",
    "            if line.startswith('id: GO'):\n",
    "                go_id = line.split(': ')[1].strip()\n",
    "            if line.startswith('is_obsolete:'):\n",
    "                is_obsolete = line.split(': ')[1].strip() == 'true'\n",
    "        if is_obsolete:\n",
    "            obsolete_terms.append(go_id)\n",
    "    return obsolete_terms\n",
    "\n",
    "# GO Database location, downloaded from http://geneontology.org/docs/download-ontology/\n",
    "obsolete_terms = parse_obo_file('go.obo')"
   ]
  },
  {
   "cell_type": "code",
   "execution_count": 2,
   "id": "8a9a0991",
   "metadata": {},
   "outputs": [
    {
     "data": {
      "text/plain": [
       "4506"
      ]
     },
     "execution_count": 2,
     "metadata": {},
     "output_type": "execute_result"
    }
   ],
   "source": [
    "len(obsolete_terms)"
   ]
  },
  {
   "cell_type": "code",
   "execution_count": 5,
   "id": "5264dab2",
   "metadata": {},
   "outputs": [],
   "source": [
    "#load the go children data file\n",
    "go_child_df = pd.read_csv(\"/Users/zaidur/Documents/Sequence_Project/aeromonasBact/uniprot_go_childs.csv\")\n",
    "\n",
    "#convert the go_terms column into list\n",
    "go_child_df['go_terms'] = go_child_df['go_terms'].apply(ast.literal_eval)"
   ]
  },
  {
   "cell_type": "code",
   "execution_count": 6,
   "id": "b93259b7",
   "metadata": {},
   "outputs": [
    {
     "data": {
      "text/html": [
       "<div>\n",
       "<style scoped>\n",
       "    .dataframe tbody tr th:only-of-type {\n",
       "        vertical-align: middle;\n",
       "    }\n",
       "\n",
       "    .dataframe tbody tr th {\n",
       "        vertical-align: top;\n",
       "    }\n",
       "\n",
       "    .dataframe thead th {\n",
       "        text-align: right;\n",
       "    }\n",
       "</style>\n",
       "<table border=\"1\" class=\"dataframe\">\n",
       "  <thead>\n",
       "    <tr style=\"text-align: right;\">\n",
       "      <th></th>\n",
       "      <th>id</th>\n",
       "      <th>sequence</th>\n",
       "      <th>go_terms</th>\n",
       "    </tr>\n",
       "  </thead>\n",
       "  <tbody>\n",
       "    <tr>\n",
       "      <th>0</th>\n",
       "      <td>A0A068FVC1</td>\n",
       "      <td>MNIIKTAIPDVHIFEPKVFFDERGFFFESFNHKLFEEAVGYSVNFV...</td>\n",
       "      <td>[GO:0008830, GO:0019305]</td>\n",
       "    </tr>\n",
       "    <tr>\n",
       "      <th>1</th>\n",
       "      <td>A0A068FZD0</td>\n",
       "      <td>MTTQSSKSRVFVAGHRGMVGSAICRQLAQRTDIELVVRSRSELDLT...</td>\n",
       "      <td>[GO:0016853, GO:0042351, GO:0050577, GO:0070401]</td>\n",
       "    </tr>\n",
       "    <tr>\n",
       "      <th>2</th>\n",
       "      <td>A0A068FZK6</td>\n",
       "      <td>METSGLVAFVGTALAIACLRPLSAKLQLVDLPNQRKQHVGAIPLIG...</td>\n",
       "      <td>[GO:0000287, GO:0005886, GO:0009243, GO:000927...</td>\n",
       "    </tr>\n",
       "    <tr>\n",
       "      <th>3</th>\n",
       "      <td>A0A075P9Z7</td>\n",
       "      <td>MNLTELKQKPITDLLQLAEEMGIENMARSRKQDVIFSLLKKHAKSG...</td>\n",
       "      <td>[GO:0003723, GO:0004386, GO:0005524, GO:000582...</td>\n",
       "    </tr>\n",
       "    <tr>\n",
       "      <th>4</th>\n",
       "      <td>A0A075PBX8</td>\n",
       "      <td>MQISVNEFLTPRHIDVQVVSPTRAKITLEPLERGFGHTLGNALRRI...</td>\n",
       "      <td>[GO:0000428, GO:0003677, GO:0003899, GO:000573...</td>\n",
       "    </tr>\n",
       "    <tr>\n",
       "      <th>...</th>\n",
       "      <td>...</td>\n",
       "      <td>...</td>\n",
       "      <td>...</td>\n",
       "    </tr>\n",
       "    <tr>\n",
       "      <th>29776</th>\n",
       "      <td>Q7BJX9</td>\n",
       "      <td>MDIYMSRYEEITQQLIFSPKTWLITGVAGFIGSNLLEKLLKLNQVV...</td>\n",
       "      <td>[GO:0000166, GO:0003974, GO:0009243]</td>\n",
       "    </tr>\n",
       "    <tr>\n",
       "      <th>29777</th>\n",
       "      <td>Q8UVZ1</td>\n",
       "      <td>MEQANLYEVAPRPLMTSLVQNQQNPYIYKDTAGDLSEICENENSID...</td>\n",
       "      <td>[GO:0000978, GO:0000981, GO:0001228, GO:000188...</td>\n",
       "    </tr>\n",
       "    <tr>\n",
       "      <th>29778</th>\n",
       "      <td>Q9L5A4</td>\n",
       "      <td>MKQTSLALAITALLSTLPSALVQANEGCAPLTGKESGMDIGRSSTE...</td>\n",
       "      <td>[GO:0004252, GO:0005576, GO:0006508, GO:004259...</td>\n",
       "    </tr>\n",
       "    <tr>\n",
       "      <th>29779</th>\n",
       "      <td>R1GTS7</td>\n",
       "      <td>MFARLEGRPVLLVGGGEVALRKARLLLAAGARLTLVSPVLASEFDE...</td>\n",
       "      <td>[GO:0004851, GO:0009236, GO:0019354, GO:003225...</td>\n",
       "    </tr>\n",
       "    <tr>\n",
       "      <th>29780</th>\n",
       "      <td>T0PES4</td>\n",
       "      <td>MDYLPIFCRLDNKPVLLVGGGDVAERKARLLLDAGAQLTVVAPELD...</td>\n",
       "      <td>[GO:0004851, GO:0009236, GO:0019354, GO:003225...</td>\n",
       "    </tr>\n",
       "  </tbody>\n",
       "</table>\n",
       "<p>29781 rows × 3 columns</p>\n",
       "</div>"
      ],
      "text/plain": [
       "               id                                           sequence  \\\n",
       "0      A0A068FVC1  MNIIKTAIPDVHIFEPKVFFDERGFFFESFNHKLFEEAVGYSVNFV...   \n",
       "1      A0A068FZD0  MTTQSSKSRVFVAGHRGMVGSAICRQLAQRTDIELVVRSRSELDLT...   \n",
       "2      A0A068FZK6  METSGLVAFVGTALAIACLRPLSAKLQLVDLPNQRKQHVGAIPLIG...   \n",
       "3      A0A075P9Z7  MNLTELKQKPITDLLQLAEEMGIENMARSRKQDVIFSLLKKHAKSG...   \n",
       "4      A0A075PBX8  MQISVNEFLTPRHIDVQVVSPTRAKITLEPLERGFGHTLGNALRRI...   \n",
       "...           ...                                                ...   \n",
       "29776      Q7BJX9  MDIYMSRYEEITQQLIFSPKTWLITGVAGFIGSNLLEKLLKLNQVV...   \n",
       "29777      Q8UVZ1  MEQANLYEVAPRPLMTSLVQNQQNPYIYKDTAGDLSEICENENSID...   \n",
       "29778      Q9L5A4  MKQTSLALAITALLSTLPSALVQANEGCAPLTGKESGMDIGRSSTE...   \n",
       "29779      R1GTS7  MFARLEGRPVLLVGGGEVALRKARLLLAAGARLTLVSPVLASEFDE...   \n",
       "29780      T0PES4  MDYLPIFCRLDNKPVLLVGGGDVAERKARLLLDAGAQLTVVAPELD...   \n",
       "\n",
       "                                                go_terms  \n",
       "0                               [GO:0008830, GO:0019305]  \n",
       "1       [GO:0016853, GO:0042351, GO:0050577, GO:0070401]  \n",
       "2      [GO:0000287, GO:0005886, GO:0009243, GO:000927...  \n",
       "3      [GO:0003723, GO:0004386, GO:0005524, GO:000582...  \n",
       "4      [GO:0000428, GO:0003677, GO:0003899, GO:000573...  \n",
       "...                                                  ...  \n",
       "29776               [GO:0000166, GO:0003974, GO:0009243]  \n",
       "29777  [GO:0000978, GO:0000981, GO:0001228, GO:000188...  \n",
       "29778  [GO:0004252, GO:0005576, GO:0006508, GO:004259...  \n",
       "29779  [GO:0004851, GO:0009236, GO:0019354, GO:003225...  \n",
       "29780  [GO:0004851, GO:0009236, GO:0019354, GO:003225...  \n",
       "\n",
       "[29781 rows x 3 columns]"
      ]
     },
     "execution_count": 6,
     "metadata": {},
     "output_type": "execute_result"
    }
   ],
   "source": [
    "go_child_df"
   ]
  },
  {
   "cell_type": "code",
   "execution_count": 7,
   "id": "0f7bd2c4",
   "metadata": {},
   "outputs": [
    {
     "name": "stdout",
     "output_type": "stream",
     "text": [
      "Number of obsolete terms: 74\n"
     ]
    }
   ],
   "source": [
    "# Initialize the count of obsolete terms\n",
    "obsolete_count = 0\n",
    "\n",
    "# Iterate over the DataFrame\n",
    "for i, row in go_child_df.iterrows():\n",
    "    new_go_terms = []\n",
    "    for go_term in row['go_terms']:\n",
    "        if go_term in obsolete_terms:\n",
    "            obsolete_count += 1\n",
    "        else:\n",
    "            new_go_terms.append(go_term)\n",
    "    go_child_df.at[i, 'go_terms'] = new_go_terms\n",
    "\n",
    "print(f\"Number of obsolete terms: {obsolete_count}\")"
   ]
  },
  {
   "cell_type": "code",
   "execution_count": 10,
   "id": "b50a38f0",
   "metadata": {},
   "outputs": [],
   "source": [
    "go_child_df.to_csv(\"/Users/zaidur/Documents/Sequence_Project/aeromonasBact/uniprot_go_childs.csv\", index=False)"
   ]
  },
  {
   "cell_type": "code",
   "execution_count": null,
   "id": "e0eec81b",
   "metadata": {},
   "outputs": [],
   "source": []
  }
 ],
 "metadata": {
  "kernelspec": {
   "display_name": "Python 3 (ipykernel)",
   "language": "python",
   "name": "python3"
  },
  "language_info": {
   "codemirror_mode": {
    "name": "ipython",
    "version": 3
   },
   "file_extension": ".py",
   "mimetype": "text/x-python",
   "name": "python",
   "nbconvert_exporter": "python",
   "pygments_lexer": "ipython3",
   "version": "3.9.12"
  }
 },
 "nbformat": 4,
 "nbformat_minor": 5
}
