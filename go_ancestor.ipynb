{
 "cells": [
  {
   "cell_type": "code",
   "execution_count": 1,
   "id": "d4aae983",
   "metadata": {},
   "outputs": [],
   "source": [
    "import pandas as pd\n",
    "from goatools.obo_parser import GODag"
   ]
  },
  {
   "cell_type": "code",
   "execution_count": 22,
   "id": "1bf037a9",
   "metadata": {},
   "outputs": [],
   "source": [
    "#load the go children data file\n",
    "go_child_df = pd.read_csv(\"/Users/zaidur/Documents/Sequence_Project/aeromonasBact/uniprot_go_childs.csv\")\n",
    "#load the go parent database\n",
    "go_parent_data = pd.read_csv(\"/Users/zaidur/Documents/Sequence_Project/aeromonasBact/go_parent_data.csv\")"
   ]
  },
  {
   "cell_type": "code",
   "execution_count": 24,
   "id": "f706ba0c",
   "metadata": {},
   "outputs": [],
   "source": [
    "go_child_df_head = go_child_df.head(5)"
   ]
  },
  {
   "cell_type": "code",
   "execution_count": 26,
   "id": "a8be32ee",
   "metadata": {},
   "outputs": [
    {
     "data": {
      "text/html": [
       "<div>\n",
       "<style scoped>\n",
       "    .dataframe tbody tr th:only-of-type {\n",
       "        vertical-align: middle;\n",
       "    }\n",
       "\n",
       "    .dataframe tbody tr th {\n",
       "        vertical-align: top;\n",
       "    }\n",
       "\n",
       "    .dataframe thead th {\n",
       "        text-align: right;\n",
       "    }\n",
       "</style>\n",
       "<table border=\"1\" class=\"dataframe\">\n",
       "  <thead>\n",
       "    <tr style=\"text-align: right;\">\n",
       "      <th></th>\n",
       "      <th>id</th>\n",
       "      <th>sequence</th>\n",
       "      <th>go_terms</th>\n",
       "    </tr>\n",
       "  </thead>\n",
       "  <tbody>\n",
       "    <tr>\n",
       "      <th>0</th>\n",
       "      <td>A0A068FVC1</td>\n",
       "      <td>MNIIKTAIPDVHIFEPKVFFDERGFFFESFNHKLFEEAVGYSVNFV...</td>\n",
       "      <td>['GO:0008830', 'GO:0019305']</td>\n",
       "    </tr>\n",
       "    <tr>\n",
       "      <th>1</th>\n",
       "      <td>A0A068FZD0</td>\n",
       "      <td>MTTQSSKSRVFVAGHRGMVGSAICRQLAQRTDIELVVRSRSELDLT...</td>\n",
       "      <td>['GO:0016853', 'GO:0042351', 'GO:0050577', 'GO...</td>\n",
       "    </tr>\n",
       "    <tr>\n",
       "      <th>2</th>\n",
       "      <td>A0A068FZK6</td>\n",
       "      <td>METSGLVAFVGTALAIACLRPLSAKLQLVDLPNQRKQHVGAIPLIG...</td>\n",
       "      <td>['GO:0000287', 'GO:0005886', 'GO:0009243', 'GO...</td>\n",
       "    </tr>\n",
       "    <tr>\n",
       "      <th>3</th>\n",
       "      <td>A0A075P9Z7</td>\n",
       "      <td>MNLTELKQKPITDLLQLAEEMGIENMARSRKQDVIFSLLKKHAKSG...</td>\n",
       "      <td>['GO:0003723', 'GO:0004386', 'GO:0005524', 'GO...</td>\n",
       "    </tr>\n",
       "    <tr>\n",
       "      <th>4</th>\n",
       "      <td>A0A075PBX8</td>\n",
       "      <td>MQISVNEFLTPRHIDVQVVSPTRAKITLEPLERGFGHTLGNALRRI...</td>\n",
       "      <td>['GO:0000428', 'GO:0003677', 'GO:0003899', 'GO...</td>\n",
       "    </tr>\n",
       "  </tbody>\n",
       "</table>\n",
       "</div>"
      ],
      "text/plain": [
       "           id                                           sequence  \\\n",
       "0  A0A068FVC1  MNIIKTAIPDVHIFEPKVFFDERGFFFESFNHKLFEEAVGYSVNFV...   \n",
       "1  A0A068FZD0  MTTQSSKSRVFVAGHRGMVGSAICRQLAQRTDIELVVRSRSELDLT...   \n",
       "2  A0A068FZK6  METSGLVAFVGTALAIACLRPLSAKLQLVDLPNQRKQHVGAIPLIG...   \n",
       "3  A0A075P9Z7  MNLTELKQKPITDLLQLAEEMGIENMARSRKQDVIFSLLKKHAKSG...   \n",
       "4  A0A075PBX8  MQISVNEFLTPRHIDVQVVSPTRAKITLEPLERGFGHTLGNALRRI...   \n",
       "\n",
       "                                            go_terms  \n",
       "0                       ['GO:0008830', 'GO:0019305']  \n",
       "1  ['GO:0016853', 'GO:0042351', 'GO:0050577', 'GO...  \n",
       "2  ['GO:0000287', 'GO:0005886', 'GO:0009243', 'GO...  \n",
       "3  ['GO:0003723', 'GO:0004386', 'GO:0005524', 'GO...  \n",
       "4  ['GO:0000428', 'GO:0003677', 'GO:0003899', 'GO...  "
      ]
     },
     "execution_count": 26,
     "metadata": {},
     "output_type": "execute_result"
    }
   ],
   "source": [
    "go_child_df_head"
   ]
  },
  {
   "cell_type": "code",
   "execution_count": 36,
   "id": "f45048b8",
   "metadata": {},
   "outputs": [
    {
     "name": "stderr",
     "output_type": "stream",
     "text": [
      "/var/folders/8f/dbt9gbp93cbc6ns69dz8rq6c0000gn/T/ipykernel_38008/3552083970.py:3: SettingWithCopyWarning: \n",
      "A value is trying to be set on a copy of a slice from a DataFrame.\n",
      "Try using .loc[row_indexer,col_indexer] = value instead\n",
      "\n",
      "See the caveats in the documentation: https://pandas.pydata.org/pandas-docs/stable/user_guide/indexing.html#returning-a-view-versus-a-copy\n",
      "  go_child_df_head['go_terms'] = go_child_df_head['go_terms'].apply(ast.literal_eval)\n"
     ]
    }
   ],
   "source": [
    "#convert the go_terms column into list\n",
    "\n",
    "import ast\n",
    "\n",
    "go_child_df_head['go_terms'] = go_child_df_head['go_terms'].apply(ast.literal_eval)"
   ]
  },
  {
   "cell_type": "code",
   "execution_count": 117,
   "id": "fba3cabf",
   "metadata": {},
   "outputs": [
    {
     "name": "stdout",
     "output_type": "stream",
     "text": [
      "/Users/zaidur/Documents/Sequence_Project/aeromonasBact/go-basic.obo: fmt(1.2) rel(2023-05-10) 46,490 Terms\n"
     ]
    },
    {
     "data": {
      "text/html": [
       "<div>\n",
       "<style scoped>\n",
       "    .dataframe tbody tr th:only-of-type {\n",
       "        vertical-align: middle;\n",
       "    }\n",
       "\n",
       "    .dataframe tbody tr th {\n",
       "        vertical-align: top;\n",
       "    }\n",
       "\n",
       "    .dataframe thead th {\n",
       "        text-align: right;\n",
       "    }\n",
       "</style>\n",
       "<table border=\"1\" class=\"dataframe\">\n",
       "  <thead>\n",
       "    <tr style=\"text-align: right;\">\n",
       "      <th></th>\n",
       "      <th>id</th>\n",
       "      <th>sequence</th>\n",
       "      <th>go_terms</th>\n",
       "      <th>go_parents</th>\n",
       "    </tr>\n",
       "  </thead>\n",
       "  <tbody>\n",
       "    <tr>\n",
       "      <th>0</th>\n",
       "      <td>A0A068FVC1</td>\n",
       "      <td>MNIIKTAIPDVHIFEPKVFFDERGFFFESFNHKLFEEAVGYSVNFV...</td>\n",
       "      <td>[GO:0008830, GO:0019305]</td>\n",
       "      <td>[GO:0016853, GO:0055086, GO:1901135]</td>\n",
       "    </tr>\n",
       "    <tr>\n",
       "      <th>1</th>\n",
       "      <td>A0A068FZD0</td>\n",
       "      <td>MTTQSSKSRVFVAGHRGMVGSAICRQLAQRTDIELVVRSRSELDLT...</td>\n",
       "      <td>[GO:0016853, GO:0042351, GO:0050577, GO:0070401]</td>\n",
       "      <td>[GO:0016853, GO:0055086, GO:1901135, GO:001649...</td>\n",
       "    </tr>\n",
       "    <tr>\n",
       "      <th>2</th>\n",
       "      <td>A0A068FZK6</td>\n",
       "      <td>METSGLVAFVGTALAIACLRPLSAKLQLVDLPNQRKQHVGAIPLIG...</td>\n",
       "      <td>[GO:0000287, GO:0005886, GO:0009243, GO:000927...</td>\n",
       "      <td>[GO:0003674, GO:0005886, GO:0005975, GO:000561...</td>\n",
       "    </tr>\n",
       "    <tr>\n",
       "      <th>3</th>\n",
       "      <td>A0A075P9Z7</td>\n",
       "      <td>MNLTELKQKPITDLLQLAEEMGIENMARSRKQDVIFSLLKKHAKSG...</td>\n",
       "      <td>[GO:0003723, GO:0004386, GO:0005524, GO:000582...</td>\n",
       "      <td>[GO:0003723, GO:0003824, GO:0140657, GO:000367...</td>\n",
       "    </tr>\n",
       "    <tr>\n",
       "      <th>4</th>\n",
       "      <td>A0A075PBX8</td>\n",
       "      <td>MQISVNEFLTPRHIDVQVVSPTRAKITLEPLERGFGHTLGNALRRI...</td>\n",
       "      <td>[GO:0000428, GO:0003677, GO:0003899, GO:000573...</td>\n",
       "      <td>[GO:0005575, GO:0003677, GO:0140098, GO:000557...</td>\n",
       "    </tr>\n",
       "  </tbody>\n",
       "</table>\n",
       "</div>"
      ],
      "text/plain": [
       "           id                                           sequence  \\\n",
       "0  A0A068FVC1  MNIIKTAIPDVHIFEPKVFFDERGFFFESFNHKLFEEAVGYSVNFV...   \n",
       "1  A0A068FZD0  MTTQSSKSRVFVAGHRGMVGSAICRQLAQRTDIELVVRSRSELDLT...   \n",
       "2  A0A068FZK6  METSGLVAFVGTALAIACLRPLSAKLQLVDLPNQRKQHVGAIPLIG...   \n",
       "3  A0A075P9Z7  MNLTELKQKPITDLLQLAEEMGIENMARSRKQDVIFSLLKKHAKSG...   \n",
       "4  A0A075PBX8  MQISVNEFLTPRHIDVQVVSPTRAKITLEPLERGFGHTLGNALRRI...   \n",
       "\n",
       "                                            go_terms  \\\n",
       "0                           [GO:0008830, GO:0019305]   \n",
       "1   [GO:0016853, GO:0042351, GO:0050577, GO:0070401]   \n",
       "2  [GO:0000287, GO:0005886, GO:0009243, GO:000927...   \n",
       "3  [GO:0003723, GO:0004386, GO:0005524, GO:000582...   \n",
       "4  [GO:0000428, GO:0003677, GO:0003899, GO:000573...   \n",
       "\n",
       "                                          go_parents  \n",
       "0               [GO:0016853, GO:0055086, GO:1901135]  \n",
       "1  [GO:0016853, GO:0055086, GO:1901135, GO:001649...  \n",
       "2  [GO:0003674, GO:0005886, GO:0005975, GO:000561...  \n",
       "3  [GO:0003723, GO:0003824, GO:0140657, GO:000367...  \n",
       "4  [GO:0005575, GO:0003677, GO:0140098, GO:000557...  "
      ]
     },
     "execution_count": 117,
     "metadata": {},
     "output_type": "execute_result"
    }
   ],
   "source": [
    "import pandas as pd\n",
    "from goatools.obo_parser import GODag\n",
    "\n",
    "#function for getting the ancestors and their generation level as a dictionary\n",
    "def get_ancestors(go_term, ancestors_dict):\n",
    "    ancestors_dict[go_term] = go_dag[go_term].level\n",
    "    for parent in go_dag[go_term].parents:\n",
    "        get_ancestors(parent.id, ancestors_dict)\n",
    "\n",
    "\n",
    "# GO Database location\n",
    "obo_fname = '/Users/zaidur/Documents/Sequence_Project/aeromonasBact/go-basic.obo'\n",
    "\n",
    "# Load the GO graph\n",
    "go_dag = GODag(obo_file=obo_fname)\n",
    "\n",
    "go_child_df_head['go_parents'] = '' # initialize new column\n",
    "\n",
    "for index in range(len(go_child_df_head)):\n",
    "    go_list = []\n",
    "    for go_term in go_child_df_head.loc[index, 'go_terms']:\n",
    "        ancestors_dict = {}\n",
    "        get_ancestors(go_term, ancestors_dict)\n",
    "        \n",
    "        filtered_ancestors_dict = {k: v for k, v in ancestors_dict.items() if k in go_parent_data['go_id'].tolist()}\n",
    "\n",
    "        # Get the highest level\n",
    "        highest_level = max(filtered_ancestors_dict.values())\n",
    "\n",
    "        # Get all ancestors with the highest level\n",
    "        highest_level_ancestors = [k for k, v in filtered_ancestors_dict.items() if v == highest_level]\n",
    "        \n",
    "        go_list.extend(highest_level_ancestors)\n",
    "        \n",
    "    \n",
    "    go_child_df_head.at[index, 'go_parents'] = go_list\n",
    "    \n",
    "        \n",
    "    \n",
    "go_child_df_head        "
   ]
  },
  {
   "cell_type": "code",
   "execution_count": null,
   "id": "3079f572",
   "metadata": {},
   "outputs": [],
   "source": []
  },
  {
   "cell_type": "code",
   "execution_count": null,
   "id": "99807f94",
   "metadata": {},
   "outputs": [],
   "source": []
  }
 ],
 "metadata": {
  "kernelspec": {
   "display_name": "Python 3 (ipykernel)",
   "language": "python",
   "name": "python3"
  },
  "language_info": {
   "codemirror_mode": {
    "name": "ipython",
    "version": 3
   },
   "file_extension": ".py",
   "mimetype": "text/x-python",
   "name": "python",
   "nbconvert_exporter": "python",
   "pygments_lexer": "ipython3",
   "version": "3.9.12"
  }
 },
 "nbformat": 4,
 "nbformat_minor": 5
}
